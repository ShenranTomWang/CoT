{
 "cells": [
  {
   "cell_type": "markdown",
   "metadata": {},
   "source": [
    "# Imports"
   ]
  },
  {
   "cell_type": "code",
   "execution_count": null,
   "metadata": {
    "vscode": {
     "languageId": "plaintext"
    }
   },
   "outputs": [],
   "source": [
    "import torch"
   ]
  },
  {
   "cell_type": "markdown",
   "metadata": {},
   "source": [
    "# Constants"
   ]
  },
  {
   "cell_type": "code",
   "execution_count": null,
   "metadata": {
    "vscode": {
     "languageId": "plaintext"
    }
   },
   "outputs": [],
   "source": [
    "DATA_DIR = \"./experimental_data/\"\n",
    "torch.set_grad_enabled(False)"
   ]
  },
  {
   "cell_type": "markdown",
   "metadata": {},
   "source": [
    "# Concat and save"
   ]
  },
  {
   "cell_type": "code",
   "execution_count": null,
   "metadata": {
    "vscode": {
     "languageId": "plaintext"
    }
   },
   "outputs": [],
   "source": [
    "diffs_resid_0 = torch.load(DATA_DIR + \"diffs_resid_0.pt\")\n",
    "diffs_resid_1 = torch.load(DATA_DIR + \"diffs_resid_1.pt\")\n",
    "diffs_resid_2 = torch.load(DATA_DIR + \"diffs_resid_2.pt\")\n",
    "acts_resid_0 = torch.load(DATA_DIR + \"acts_resid_0.pt\")\n",
    "acts_resid_1 = torch.load(DATA_DIR + \"acts_resid_1.pt\")\n",
    "acts_resid_2 = torch.load(DATA_DIR + \"acts_resid_2.pt\")\n",
    "acts_exp_resid_0 = torch.load(DATA_DIR + \"acts_exp_resid_0.pt\")\n",
    "acts_exp_resid_1 = torch.load(DATA_DIR + \"acts_exp_resid_1.pt\")\n",
    "acts_exp_resid_2 = torch.load(DATA_DIR + \"acts_exp_resid_2.pt\")"
   ]
  },
  {
   "cell_type": "code",
   "execution_count": null,
   "metadata": {
    "vscode": {
     "languageId": "plaintext"
    }
   },
   "outputs": [],
   "source": [
    "diffs_resid = torch.cat((diffs_resid_0, diffs_resid_1, diffs_resid_2), dim=0)\n",
    "acts_resid = torch.cat((acts_resid_0, acts_resid_1, acts_resid_2), dim=0)\n",
    "acts_exp_resid = torch.cat((acts_exp_resid_0, acts_exp_resid_1, acts_exp_resid_2), dim=0)"
   ]
  },
  {
   "cell_type": "code",
   "execution_count": null,
   "metadata": {
    "vscode": {
     "languageId": "plaintext"
    }
   },
   "outputs": [],
   "source": [
    "torch.save(diffs_resid, DATA_DIR + \"diffs_resid.pt\")\n",
    "torch.save(acts_resid, DATA_DIR + \"acts_resid.pt\")\n",
    "torch.save(acts_exp_resid, DATA_DIR + \"acts_exp_resid.pt\")"
   ]
  }
 ],
 "metadata": {
  "language_info": {
   "name": "python"
  }
 },
 "nbformat": 4,
 "nbformat_minor": 2
}
