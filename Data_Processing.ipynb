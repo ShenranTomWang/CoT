{
 "cells": [
  {
   "cell_type": "markdown",
   "metadata": {},
   "source": [
    "# Imports"
   ]
  },
  {
   "cell_type": "code",
   "execution_count": null,
   "metadata": {
    "vscode": {
     "languageId": "plaintext"
    }
   },
   "outputs": [],
   "source": [
    "import torch"
   ]
  },
  {
   "cell_type": "markdown",
   "metadata": {},
   "source": [
    "# Constants"
   ]
  },
  {
   "cell_type": "code",
   "execution_count": null,
   "metadata": {
    "vscode": {
     "languageId": "plaintext"
    }
   },
   "outputs": [],
   "source": [
    "MODEL_NAME = \"gemma-2-2b-it\"\n",
    "DATASET = \"com2sense\"\n",
    "DATA_DIR = f\"./experimental_data/{MODEL_NAME}/{DATASET}/\"\n",
    "torch.set_grad_enabled(False)"
   ]
  },
  {
   "cell_type": "markdown",
   "metadata": {},
   "source": [
    "# Concat and save"
   ]
  },
  {
   "cell_type": "code",
   "execution_count": null,
   "metadata": {
    "vscode": {
     "languageId": "plaintext"
    }
   },
   "outputs": [],
   "source": [
    "diffs_resid_0 = torch.load(DATA_DIR + \"diffs_resid_0.pt\")\n",
    "diffs_resid_1 = torch.load(DATA_DIR + \"diffs_resid_1.pt\")\n",
    "diffs_resid_2 = torch.load(DATA_DIR + \"diffs_resid_2.pt\")\n",
    "acts_resid_0 = torch.load(DATA_DIR + \"acts_resid_0.pt\")\n",
    "acts_resid_1 = torch.load(DATA_DIR + \"acts_resid_1.pt\")\n",
    "acts_resid_2 = torch.load(DATA_DIR + \"acts_resid_2.pt\")\n",
    "acts_exp_resid_0 = torch.load(DATA_DIR + \"acts_exp_resid_0.pt\")\n",
    "acts_exp_resid_1 = torch.load(DATA_DIR + \"acts_exp_resid_1.pt\")\n",
    "acts_exp_resid_2 = torch.load(DATA_DIR + \"acts_exp_resid_2.pt\")"
   ]
  },
  {
   "cell_type": "code",
   "execution_count": null,
   "metadata": {
    "vscode": {
     "languageId": "plaintext"
    }
   },
   "outputs": [],
   "source": [
    "diffs_resid = torch.cat((diffs_resid_0, diffs_resid_1, diffs_resid_2), dim=0)\n",
    "acts_resid = torch.cat((acts_resid_0, acts_resid_1, acts_resid_2), dim=0)\n",
    "acts_exp_resid = torch.cat((acts_exp_resid_0, acts_exp_resid_1, acts_exp_resid_2), dim=0)"
   ]
  },
  {
   "cell_type": "code",
   "execution_count": null,
   "metadata": {
    "vscode": {
     "languageId": "plaintext"
    }
   },
   "outputs": [],
   "source": [
    "torch.save(diffs_resid, DATA_DIR + \"diffs_resid.pt\")\n",
    "torch.save(acts_resid, DATA_DIR + \"acts_resid.pt\")\n",
    "torch.save(acts_exp_resid, DATA_DIR + \"acts_exp_resid.pt\")"
   ]
  }
 ],
 "metadata": {
  "kernelspec": {
   "display_name": "Python 3 (ipykernel)",
   "language": "python",
   "name": "python3"
  },
  "language_info": {
   "codemirror_mode": {
    "name": "ipython",
    "version": 3
   },
   "file_extension": ".py",
   "mimetype": "text/x-python",
   "name": "python",
   "nbconvert_exporter": "python",
   "pygments_lexer": "ipython3",
   "version": "3.11.6"
  }
 },
 "nbformat": 4,
 "nbformat_minor": 4
}
