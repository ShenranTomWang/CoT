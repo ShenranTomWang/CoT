{
 "cells": [
  {
   "cell_type": "markdown",
   "metadata": {},
   "source": [
    "# Imports"
   ]
  },
  {
   "cell_type": "code",
   "execution_count": 1,
   "metadata": {},
   "outputs": [],
   "source": [
    "import torch"
   ]
  },
  {
   "cell_type": "markdown",
   "metadata": {},
   "source": [
    "# Constants"
   ]
  },
  {
   "cell_type": "code",
   "execution_count": 2,
   "metadata": {},
   "outputs": [],
   "source": [
    "MODEL_NAME = \"gemma-2-2b\"\n",
    "DATASET = \"com2sense\"\n",
    "DATA_DIR = f\"./experimental_data/{MODEL_NAME}/{DATASET}/\"\n",
    "torch.set_grad_enabled(False)\n",
    "device = torch.device(\"cuda\") if torch.cuda.is_available() else torch.device(\"cpu\")"
   ]
  },
  {
   "cell_type": "markdown",
   "metadata": {},
   "source": [
    "# Concat and save"
   ]
  },
  {
   "cell_type": "code",
   "execution_count": 4,
   "metadata": {},
   "outputs": [
    {
     "name": "stderr",
     "output_type": "stream",
     "text": [
      "C:\\Users\\wsr20\\AppData\\Local\\Temp\\ipykernel_18936\\3083749000.py:1: FutureWarning: You are using `torch.load` with `weights_only=False` (the current default value), which uses the default pickle module implicitly. It is possible to construct malicious pickle data which will execute arbitrary code during unpickling (See https://github.com/pytorch/pytorch/blob/main/SECURITY.md#untrusted-models for more details). In a future release, the default value for `weights_only` will be flipped to `True`. This limits the functions that could be executed during unpickling. Arbitrary objects will no longer be allowed to be loaded via this mode unless they are explicitly allowlisted by the user via `torch.serialization.add_safe_globals`. We recommend you start setting `weights_only=True` for any use case where you don't have full control of the loaded file. Please open an issue on GitHub for any issues related to this experimental feature.\n",
      "  diffs_resid_0 = torch.load(DATA_DIR + \"diffs_resid_0.pt\", map_location=device)\n",
      "C:\\Users\\wsr20\\AppData\\Local\\Temp\\ipykernel_18936\\3083749000.py:2: FutureWarning: You are using `torch.load` with `weights_only=False` (the current default value), which uses the default pickle module implicitly. It is possible to construct malicious pickle data which will execute arbitrary code during unpickling (See https://github.com/pytorch/pytorch/blob/main/SECURITY.md#untrusted-models for more details). In a future release, the default value for `weights_only` will be flipped to `True`. This limits the functions that could be executed during unpickling. Arbitrary objects will no longer be allowed to be loaded via this mode unless they are explicitly allowlisted by the user via `torch.serialization.add_safe_globals`. We recommend you start setting `weights_only=True` for any use case where you don't have full control of the loaded file. Please open an issue on GitHub for any issues related to this experimental feature.\n",
      "  diffs_resid_1 = torch.load(DATA_DIR + \"diffs_resid_1.pt\", map_location=device)\n",
      "C:\\Users\\wsr20\\AppData\\Local\\Temp\\ipykernel_18936\\3083749000.py:4: FutureWarning: You are using `torch.load` with `weights_only=False` (the current default value), which uses the default pickle module implicitly. It is possible to construct malicious pickle data which will execute arbitrary code during unpickling (See https://github.com/pytorch/pytorch/blob/main/SECURITY.md#untrusted-models for more details). In a future release, the default value for `weights_only` will be flipped to `True`. This limits the functions that could be executed during unpickling. Arbitrary objects will no longer be allowed to be loaded via this mode unless they are explicitly allowlisted by the user via `torch.serialization.add_safe_globals`. We recommend you start setting `weights_only=True` for any use case where you don't have full control of the loaded file. Please open an issue on GitHub for any issues related to this experimental feature.\n",
      "  acts_resid_0 = torch.load(DATA_DIR + \"acts_resid_0.pt\", map_location=device)\n",
      "C:\\Users\\wsr20\\AppData\\Local\\Temp\\ipykernel_18936\\3083749000.py:5: FutureWarning: You are using `torch.load` with `weights_only=False` (the current default value), which uses the default pickle module implicitly. It is possible to construct malicious pickle data which will execute arbitrary code during unpickling (See https://github.com/pytorch/pytorch/blob/main/SECURITY.md#untrusted-models for more details). In a future release, the default value for `weights_only` will be flipped to `True`. This limits the functions that could be executed during unpickling. Arbitrary objects will no longer be allowed to be loaded via this mode unless they are explicitly allowlisted by the user via `torch.serialization.add_safe_globals`. We recommend you start setting `weights_only=True` for any use case where you don't have full control of the loaded file. Please open an issue on GitHub for any issues related to this experimental feature.\n",
      "  acts_resid_1 = torch.load(DATA_DIR + \"acts_resid_1.pt\", map_location=device)\n",
      "C:\\Users\\wsr20\\AppData\\Local\\Temp\\ipykernel_18936\\3083749000.py:7: FutureWarning: You are using `torch.load` with `weights_only=False` (the current default value), which uses the default pickle module implicitly. It is possible to construct malicious pickle data which will execute arbitrary code during unpickling (See https://github.com/pytorch/pytorch/blob/main/SECURITY.md#untrusted-models for more details). In a future release, the default value for `weights_only` will be flipped to `True`. This limits the functions that could be executed during unpickling. Arbitrary objects will no longer be allowed to be loaded via this mode unless they are explicitly allowlisted by the user via `torch.serialization.add_safe_globals`. We recommend you start setting `weights_only=True` for any use case where you don't have full control of the loaded file. Please open an issue on GitHub for any issues related to this experimental feature.\n",
      "  acts_exp_resid_0 = torch.load(DATA_DIR + \"acts_exp_resid_0.pt\", map_location=device)\n",
      "C:\\Users\\wsr20\\AppData\\Local\\Temp\\ipykernel_18936\\3083749000.py:8: FutureWarning: You are using `torch.load` with `weights_only=False` (the current default value), which uses the default pickle module implicitly. It is possible to construct malicious pickle data which will execute arbitrary code during unpickling (See https://github.com/pytorch/pytorch/blob/main/SECURITY.md#untrusted-models for more details). In a future release, the default value for `weights_only` will be flipped to `True`. This limits the functions that could be executed during unpickling. Arbitrary objects will no longer be allowed to be loaded via this mode unless they are explicitly allowlisted by the user via `torch.serialization.add_safe_globals`. We recommend you start setting `weights_only=True` for any use case where you don't have full control of the loaded file. Please open an issue on GitHub for any issues related to this experimental feature.\n",
      "  acts_exp_resid_1 = torch.load(DATA_DIR + \"acts_exp_resid_1.pt\", map_location=device)\n"
     ]
    }
   ],
   "source": [
    "diffs_resid_0 = torch.load(DATA_DIR + \"diffs_resid_0.pt\", map_location=device)\n",
    "diffs_resid_1 = torch.load(DATA_DIR + \"diffs_resid_1.pt\", map_location=device)\n",
    "# diffs_resid_2 = torch.load(DATA_DIR + \"diffs_resid_2.pt\", map_location=device)\n",
    "acts_resid_0 = torch.load(DATA_DIR + \"acts_resid_0.pt\", map_location=device)\n",
    "acts_resid_1 = torch.load(DATA_DIR + \"acts_resid_1.pt\", map_location=device)\n",
    "# acts_resid_2 = torch.load(DATA_DIR + \"acts_resid_2.pt\", map_location=device)\n",
    "acts_exp_resid_0 = torch.load(DATA_DIR + \"acts_exp_resid_0.pt\", map_location=device)\n",
    "acts_exp_resid_1 = torch.load(DATA_DIR + \"acts_exp_resid_1.pt\", map_location=device)\n",
    "# acts_exp_resid_2 = torch.load(DATA_DIR + \"acts_exp_resid_2.pt\", map_location=device)"
   ]
  },
  {
   "cell_type": "code",
   "execution_count": 6,
   "metadata": {},
   "outputs": [],
   "source": [
    "diffs_resid = torch.cat((diffs_resid_0, diffs_resid_1), dim=0)\n",
    "acts_resid = torch.cat((acts_resid_0, acts_resid_1), dim=0)\n",
    "acts_exp_resid = torch.cat((acts_exp_resid_0, acts_exp_resid_1), dim=0)"
   ]
  },
  {
   "cell_type": "code",
   "execution_count": 7,
   "metadata": {},
   "outputs": [],
   "source": [
    "torch.save(diffs_resid, DATA_DIR + \"diffs_resid.pt\")\n",
    "torch.save(acts_resid, DATA_DIR + \"acts_resid.pt\")\n",
    "torch.save(acts_exp_resid, DATA_DIR + \"acts_exp_resid.pt\")"
   ]
  }
 ],
 "metadata": {
  "kernelspec": {
   "display_name": "CoT",
   "language": "python",
   "name": "python3"
  },
  "language_info": {
   "codemirror_mode": {
    "name": "ipython",
    "version": 3
   },
   "file_extension": ".py",
   "mimetype": "text/x-python",
   "name": "python",
   "nbconvert_exporter": "python",
   "pygments_lexer": "ipython3",
   "version": "3.12.6"
  }
 },
 "nbformat": 4,
 "nbformat_minor": 4
}
